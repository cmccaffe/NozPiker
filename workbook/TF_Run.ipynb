{
 "cells": [
  {
   "cell_type": "markdown",
   "metadata": {},
   "source": [
    "## Imports and Parameters"
   ]
  },
  {
   "cell_type": "code",
   "execution_count": 8,
   "metadata": {},
   "outputs": [],
   "source": [
    "import tensorflow as tf\n",
    "from tensorflow import keras\n",
    "import pickle\n",
    "import os\n",
    "import numpy as np\n",
    "from NozPiker_Funcs import main as NZ\n",
    "from biopandas.pdb import PandasPdb\n",
    "import os\n",
    "import subprocess\n",
    "import pandas as pd\n",
    "import matplotlib.pyplot as plt"
   ]
  },
  {
   "cell_type": "code",
   "execution_count": 10,
   "metadata": {},
   "outputs": [],
   "source": [
    "%matplotlib inline"
   ]
  },
  {
   "cell_type": "code",
   "execution_count": 2,
   "metadata": {},
   "outputs": [],
   "source": [
    "DATA_DIR = os.path.join(os.path.dirname(os.getcwd()),'data/build_data/')\n",
    "#Pkl_Path = os.path.join(DATA_DIR,'Train.p')"
   ]
  },
  {
   "cell_type": "markdown",
   "metadata": {},
   "source": [
    "# Convert pdbs to mrcs"
   ]
  },
  {
   "cell_type": "code",
   "execution_count": 3,
   "metadata": {},
   "outputs": [],
   "source": [
    "pdblist = ['2QPS', '6F4G', '5NQ2', '5NQ3', '2E5O']"
   ]
  },
  {
   "cell_type": "code",
   "execution_count": 4,
   "metadata": {},
   "outputs": [
    {
     "name": "stdout",
     "output_type": "stream",
     "text": [
      "ALPHA-AMYLASETYPEAISOZYME\n",
      "PROBABLEU2SMALLNUCLEARRIBONUCLEOPROTEINA'\n",
      "MHCCLASSIANTIGEN\n",
      "MHCCLASSIANTIGEN\n",
      "ACTIVATINGSIGNALCOINTEGRATOR1\n",
      "Image projections complete!\n"
     ]
    }
   ],
   "source": [
    "Train = {}\n",
    "for i in pdblist:\n",
    "    name, mrc = NZ.makeImages(DATA_DIR, i)\n",
    "    NZ.GetImageSet(os.path.join(DATA_DIR,mrc), name, Train)\n",
    "    \n",
    "    \n",
    "print(\"Image projections complete!\")"
   ]
  },
  {
   "cell_type": "code",
   "execution_count": 18,
   "metadata": {},
   "outputs": [
    {
     "data": {
      "text/plain": [
       "array([[ 0.0746251 ,  0.01427501,  0.04832024, ...,  0.03436   ,\n",
       "         0.08254267,  0.00615109],\n",
       "       [ 0.06266035,  0.03397953,  0.06305473, ...,  0.06124645,\n",
       "         0.04357112,  0.00079644],\n",
       "       [ 0.01047488,  0.04076661,  0.01955001, ...,  0.01912774,\n",
       "        -0.00910127,  0.11883347],\n",
       "       ...,\n",
       "       [ 0.06313296,  0.0375212 ,  0.02430323, ...,  0.05003873,\n",
       "         0.00822998,  0.0322262 ],\n",
       "       [ 0.03014814,  0.06573272,  0.01437057, ...,  0.03820754,\n",
       "         0.09337182,  0.01134115],\n",
       "       [ 0.02872119,  0.02639503,  0.07700232, ...,  0.02244525,\n",
       "        -0.00185494,  0.06971496]], dtype=float32)"
      ]
     },
     "execution_count": 18,
     "metadata": {},
     "output_type": "execute_result"
    }
   ],
   "source": [
    "Train['MHCCLASSIANTIGEN'][0]"
   ]
  },
  {
   "cell_type": "code",
   "execution_count": 17,
   "metadata": {},
   "outputs": [
    {
     "name": "stdout",
     "output_type": "stream",
     "text": [
      "0\n",
      "(104, 104)\n",
      "1\n",
      "(104, 104)\n",
      "2\n",
      "(104, 104)\n",
      "3\n",
      "(104, 104)\n",
      "4\n",
      "(104, 104)\n",
      "5\n",
      "(104, 104)\n",
      "6\n",
      "(104, 104)\n",
      "7\n",
      "(104, 104)\n",
      "8\n",
      "(104, 104)\n",
      "9\n",
      "(104, 104)\n",
      "10\n",
      "(104, 104)\n",
      "11\n",
      "(104, 104)\n",
      "12\n",
      "(104, 104)\n",
      "13\n",
      "(104, 104)\n",
      "14\n",
      "(104, 104)\n",
      "15\n",
      "(104, 104)\n",
      "16\n",
      "(104, 104)\n",
      "17\n",
      "(104, 104)\n",
      "18\n",
      "(104, 104)\n",
      "19\n",
      "(104, 104)\n",
      "20\n",
      "(104, 104)\n",
      "21\n",
      "(104, 104)\n",
      "22\n",
      "(104, 104)\n",
      "23\n",
      "(104, 104)\n",
      "24\n",
      "(104, 104)\n",
      "25\n",
      "(104, 104)\n",
      "26\n",
      "(104, 104)\n",
      "27\n",
      "(104, 104)\n",
      "28\n",
      "(104, 104)\n",
      "29\n",
      "(104, 104)\n"
     ]
    }
   ],
   "source": [
    "for i in range(30):\n",
    "    print(i)\n",
    "    print(Train['MHCCLASSIANTIGEN'][i].shape)\n",
    "    plt.show()"
   ]
  },
  {
   "cell_type": "markdown",
   "metadata": {},
   "source": [
    "## Read in Data"
   ]
  },
  {
   "cell_type": "code",
   "execution_count": null,
   "metadata": {},
   "outputs": [],
   "source": [
    "train_image, train_label, class_names = NZ.CreateTrainingData(Train)"
   ]
  },
  {
   "cell_type": "markdown",
   "metadata": {},
   "source": [
    "## Run TensorFlow"
   ]
  },
  {
   "cell_type": "code",
   "execution_count": null,
   "metadata": {},
   "outputs": [],
   "source": [
    "model = keras.Sequential([\n",
    "    keras.layers.Flatten(input_shape=(488, 488)),\n",
    "    keras.layers.Dense(128, activation='relu'),\n",
    "    keras.layers.Dense(1)\n",
    "])"
   ]
  },
  {
   "cell_type": "code",
   "execution_count": null,
   "metadata": {},
   "outputs": [],
   "source": [
    "model.compile(optimizer='adam',\n",
    "              loss=tf.keras.losses.SparseCategoricalCrossentropy(from_logits=True),\n",
    "              metrics=['accuracy'])"
   ]
  },
  {
   "cell_type": "code",
   "execution_count": null,
   "metadata": {},
   "outputs": [],
   "source": [
    "model.fit(train_image, train_label, epochs=10)"
   ]
  },
  {
   "cell_type": "code",
   "execution_count": null,
   "metadata": {},
   "outputs": [],
   "source": []
  }
 ],
 "metadata": {
  "kernelspec": {
   "display_name": "Python 3",
   "language": "python",
   "name": "python3"
  },
  "language_info": {
   "codemirror_mode": {
    "name": "ipython",
    "version": 3
   },
   "file_extension": ".py",
   "mimetype": "text/x-python",
   "name": "python",
   "nbconvert_exporter": "python",
   "pygments_lexer": "ipython3",
   "version": "3.7.4"
  }
 },
 "nbformat": 4,
 "nbformat_minor": 4
}
