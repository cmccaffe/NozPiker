{
 "cells": [
  {
   "cell_type": "code",
   "execution_count": 1,
   "metadata": {},
   "outputs": [],
   "source": [
    "# import all necessary packages\n",
    "\n",
    "import pandas as pd\n",
    "import requests\n",
    "import time\n",
    "import ast\n",
    "from collections import defaultdict\n",
    "import urllib.parse\n",
    "import urllib.request\n",
    "import sys\n",
    "import shutil\n",
    "import glob\n",
    "import logging\n",
    "import tempfile\n",
    "import os\n",
    "import os.path as op\n",
    "# Import the GEM-PRO class\n",
    "from ssbio.pipeline.gempro import GEMPRO\n",
    "# Printing multiple outputs per cell\n",
    "from IPython.core.interactiveshell import InteractiveShell\n",
    "from NozPiker_Funcs import main as NZ"
   ]
  },
  {
   "cell_type": "markdown",
   "metadata": {},
   "source": [
    "# Define all functions"
   ]
  },
  {
   "cell_type": "code",
   "execution_count": 56,
   "metadata": {},
   "outputs": [],
   "source": [
    "def gempro_analysis(GENES_AND_SEQUENCES):\n",
    "    InteractiveShell.ast_node_interactivity = \"all\"\n",
    "\n",
    "    # Create logger\n",
    "    logger = logging.getLogger()\n",
    "    logger.setLevel(logging.INFO)  # SET YOUR LOGGING LEVEL HERE #\n",
    "\n",
    "    # Other logger stuff for Jupyter notebooks\n",
    "    handler = logging.StreamHandler(sys.stderr)\n",
    "    formatter = logging.Formatter('[%(asctime)s] [%(name)s] %(levelname)s: %(message)s', datefmt=\"%Y-%m-%d %H:%M\")\n",
    "    handler.setFormatter(formatter)\n",
    "    logger.handlers = [handler]\n",
    "\n",
    "    # SET FOLDERS AND DATA HERE\n",
    "    ROOT_DIR = tempfile.gettempdir()\n",
    "    \n",
    "    PROJECT = 'proteins_human_ortho_Frac15'\n",
    "    PDB_FILE_TYPE = 'pdb'\n",
    "\n",
    "    # Create the GEM-PRO project\n",
    "    my_gempro = GEMPRO(gem_name=PROJECT, root_dir=ROOT_DIR, genes_and_sequences=GENES_AND_SEQUENCES, pdb_file_type=PDB_FILE_TYPE)\n",
    "\n",
    "    # Mapping using BLAST\n",
    "    my_gempro.blast_seqs_to_pdb(all_genes=True, seq_ident_cutoff=.9, evalue=0.00001)\n",
    "    my_gempro.df_pdb_blast.head(10)\n",
    "    \n",
    "    # Download all mapped PDBs and gather the metadata\n",
    "    my_gempro.pdb_downloader_and_metadata()\n",
    "    my_gempro.df_pdb_metadata.head(2)\n",
    "\n",
    "    # Set representative structures\n",
    "    my_gempro.set_representative_structure(pdb_file_type = 'pdb', engine='biopython',seq_ident_cutoff=0.7)\n",
    "    my_gempro.df_representative_structures.head()\n",
    "\n",
    "    # Prep I-TASSER model folders\n",
    "    my_gempro.prep_itasser_modeling('~/I-TASSER5.1', '~/I-TASSER5.1/ITLIB/', runtype='local', all_genes=False)\n",
    "    my_gempro.save_json(op.join(my_gempro.model_dir, '{}.json'.format(my_gempro.id)), compression=False)\n",
    "    print('GEMPRO run has been saved in ' + my_gempro.model_dir)"
   ]
  },
  {
   "cell_type": "code",
   "execution_count": null,
   "metadata": {},
   "outputs": [],
   "source": [
    "def Main(uniprotID):\n",
    "    # extract protein sequences and append to uniprot ID\n",
    "    params = {\"query\": uniprotID, \"format\": \"fasta\"} \n",
    "    response = requests.get(\"http://www.uniprot.org/uniprot/\", params)\n",
    "    seq = response.text\n",
    "    seqq = ''.join([x for x in seq.split('\\n')[1:]])\n",
    "    print('Preparing genes and sequences...')\n",
    "    GENES_AND_SEQUENCES = dict(zip(cluster_of_interest, prot_seqs))\n",
    "    print('Beginning GEMPRO analysis...')\n",
    "    gempro_analysis(GENES_AND_SEQUENCES, cluster_number)\n",
    "    print('GEMPRO analysis has finished...')\n"
   ]
  },
  {
   "cell_type": "markdown",
   "metadata": {},
   "source": [
    "# Run protein structure extraction"
   ]
  },
  {
   "cell_type": "code",
   "execution_count": 2,
   "metadata": {},
   "outputs": [
    {
     "name": "stderr",
     "output_type": "stream",
     "text": [
      "/home/cns-mccafferty/anaconda3/lib/python3.7/site-packages/IPython/core/interactiveshell.py:3058 DtypeWarning: Columns (0,1,2,3,4) have mixed types. Specify dtype option on import or set low_memory=False.\n"
     ]
    }
   ],
   "source": [
    "# read in tett data table\n",
    "# Define Data Path\n",
    "DATA_DIR = os.path.join(os.path.dirname(os.getcwd()),'data/')\n",
    "tett_data = pd.read_csv(DATA_DIR + \"tetts_fractions_for_IFTA_cryoEM_06032020_annots.csv\")"
   ]
  },
  {
   "cell_type": "code",
   "execution_count": 3,
   "metadata": {},
   "outputs": [],
   "source": [
    "tett_data_mostabundant = tett_data[tett_data['Tetrahymena_fxn15_06032020'] > 30]"
   ]
  },
  {
   "cell_type": "code",
   "execution_count": 4,
   "metadata": {},
   "outputs": [
    {
     "data": {
      "text/html": [
       "<div>\n",
       "<style scoped>\n",
       "    .dataframe tbody tr th:only-of-type {\n",
       "        vertical-align: middle;\n",
       "    }\n",
       "\n",
       "    .dataframe tbody tr th {\n",
       "        vertical-align: top;\n",
       "    }\n",
       "\n",
       "    .dataframe thead th {\n",
       "        text-align: right;\n",
       "    }\n",
       "</style>\n",
       "<table border=\"1\" class=\"dataframe\">\n",
       "  <thead>\n",
       "    <tr style=\"text-align: right;\">\n",
       "      <th></th>\n",
       "      <th>human_genename</th>\n",
       "      <th>human_uniprot_ID</th>\n",
       "      <th>euNOG_ID</th>\n",
       "      <th>tetts_uniprot</th>\n",
       "      <th>#N/A</th>\n",
       "      <th>total_counts</th>\n",
       "      <th>Tetrahymena_fxn14_06032020</th>\n",
       "      <th>Tetrahymena_fxn15_06032020</th>\n",
       "    </tr>\n",
       "  </thead>\n",
       "  <tbody>\n",
       "    <tr>\n",
       "      <td>0</td>\n",
       "      <td>NaN</td>\n",
       "      <td>NaN</td>\n",
       "      <td>NaN</td>\n",
       "      <td>I7M9Q5</td>\n",
       "      <td>Uncharacterized protein</td>\n",
       "      <td>348</td>\n",
       "      <td>206.0</td>\n",
       "      <td>142.0</td>\n",
       "    </tr>\n",
       "    <tr>\n",
       "      <td>1</td>\n",
       "      <td>NaN</td>\n",
       "      <td>NaN</td>\n",
       "      <td>ENOG410J2R0</td>\n",
       "      <td>Q23FB7</td>\n",
       "      <td>Uncharacterized protein</td>\n",
       "      <td>176</td>\n",
       "      <td>92.0</td>\n",
       "      <td>84.0</td>\n",
       "    </tr>\n",
       "    <tr>\n",
       "      <td>2</td>\n",
       "      <td>HSP90B2P,GRP94B,GRP94P1,TRAP1,HSP90B1,GRP94,TR...</td>\n",
       "      <td>Q58FF3,P14625,Q58FF6,Q58FF8,Q58FF7,Q14568,Q58F...</td>\n",
       "      <td>KOG0020</td>\n",
       "      <td>Q22W82</td>\n",
       "      <td>HATPase_c domain-containing protein</td>\n",
       "      <td>164</td>\n",
       "      <td>88.0</td>\n",
       "      <td>76.0</td>\n",
       "    </tr>\n",
       "    <tr>\n",
       "      <td>3</td>\n",
       "      <td>NaN</td>\n",
       "      <td>NaN</td>\n",
       "      <td>ENOG410JP72</td>\n",
       "      <td>I7MJ89</td>\n",
       "      <td>Uncharacterized protein</td>\n",
       "      <td>138</td>\n",
       "      <td>86.0</td>\n",
       "      <td>52.0</td>\n",
       "    </tr>\n",
       "    <tr>\n",
       "      <td>4</td>\n",
       "      <td>TUBB4B,TUBB2C,TUBB2B,TUBB8,TUBB1,TUBB,TUBB5,OK...</td>\n",
       "      <td>P68371,Q9BVA1,Q3ZCM7,Q9H4B7,P07437,Q13509,P043...</td>\n",
       "      <td>KOG1375</td>\n",
       "      <td>Q24B92</td>\n",
       "      <td>Tubulin beta chain</td>\n",
       "      <td>117</td>\n",
       "      <td>60.0</td>\n",
       "      <td>57.0</td>\n",
       "    </tr>\n",
       "    <tr>\n",
       "      <td>5</td>\n",
       "      <td>DNHD1,C11orf47,CCDC35,DHCD1,DNHD1L,UNQ5781/PRO...</td>\n",
       "      <td>Q96M86,Q96DT5,Q9UFH2,Q6ZR08,Q9P225,Q8TE73,Q9NY...</td>\n",
       "      <td>KOG3595</td>\n",
       "      <td>I7M6H4</td>\n",
       "      <td>Dynein-1-alpha heavy chain, flagellar inner ar...</td>\n",
       "      <td>96</td>\n",
       "      <td>46.0</td>\n",
       "      <td>50.0</td>\n",
       "    </tr>\n",
       "    <tr>\n",
       "      <td>6</td>\n",
       "      <td>HSPD1,HSP60</td>\n",
       "      <td>P10809</td>\n",
       "      <td>KOG0356</td>\n",
       "      <td>Q23JZ7</td>\n",
       "      <td>Chaperonin CPN60-1</td>\n",
       "      <td>95</td>\n",
       "      <td>44.0</td>\n",
       "      <td>51.0</td>\n",
       "    </tr>\n",
       "    <tr>\n",
       "      <td>7</td>\n",
       "      <td>DOP1A,DOPEY1,KIAA1117</td>\n",
       "      <td>Q5JWR5</td>\n",
       "      <td>KOG3613</td>\n",
       "      <td>Q23JK7</td>\n",
       "      <td>Dopey, amine-terminal domain protein</td>\n",
       "      <td>91</td>\n",
       "      <td>38.0</td>\n",
       "      <td>53.0</td>\n",
       "    </tr>\n",
       "    <tr>\n",
       "      <td>8</td>\n",
       "      <td>PSMD1</td>\n",
       "      <td>Q99460</td>\n",
       "      <td>KOG2062</td>\n",
       "      <td>I7LTL6</td>\n",
       "      <td>26S proteasome regulatory complex, subunit RPN2</td>\n",
       "      <td>87</td>\n",
       "      <td>39.0</td>\n",
       "      <td>48.0</td>\n",
       "    </tr>\n",
       "    <tr>\n",
       "      <td>9</td>\n",
       "      <td>PSMD2,TRAP2</td>\n",
       "      <td>Q13200</td>\n",
       "      <td>KOG2005</td>\n",
       "      <td>I7M1R0</td>\n",
       "      <td>26S proteasome regulatory subunit</td>\n",
       "      <td>82</td>\n",
       "      <td>38.0</td>\n",
       "      <td>44.0</td>\n",
       "    </tr>\n",
       "    <tr>\n",
       "      <td>10</td>\n",
       "      <td>WDR35,IFT121,KIAA1336</td>\n",
       "      <td>Q9P2L0</td>\n",
       "      <td>KOG2041</td>\n",
       "      <td>Q22U89</td>\n",
       "      <td>WD40 repeat protein</td>\n",
       "      <td>80</td>\n",
       "      <td>31.0</td>\n",
       "      <td>49.0</td>\n",
       "    </tr>\n",
       "    <tr>\n",
       "      <td>11</td>\n",
       "      <td>DNHD1,C11orf47,CCDC35,DHCD1,DNHD1L,UNQ5781/PRO...</td>\n",
       "      <td>Q96M86,Q96DT5,Q9UFH2,Q6ZR08,Q9P225,Q8TE73,Q9NY...</td>\n",
       "      <td>KOG3595</td>\n",
       "      <td>Q23QN9</td>\n",
       "      <td>Axonemal dynein heavy chain</td>\n",
       "      <td>78</td>\n",
       "      <td>28.0</td>\n",
       "      <td>50.0</td>\n",
       "    </tr>\n",
       "    <tr>\n",
       "      <td>12</td>\n",
       "      <td>IFT140,KIAA0590,WDTC2</td>\n",
       "      <td>Q96RY7</td>\n",
       "      <td>KOG3617</td>\n",
       "      <td>I7LVZ7</td>\n",
       "      <td>Intraflagellar transporter</td>\n",
       "      <td>77</td>\n",
       "      <td>33.0</td>\n",
       "      <td>44.0</td>\n",
       "    </tr>\n",
       "    <tr>\n",
       "      <td>13</td>\n",
       "      <td>CLTC,CLH17,CLTCL2,KIAA0034,CLHC1,C2orf63,CLTCL...</td>\n",
       "      <td>Q00610,Q8NHS4,P53675</td>\n",
       "      <td>KOG0985</td>\n",
       "      <td>I7LUR8</td>\n",
       "      <td>Clathrin heavy chain</td>\n",
       "      <td>75</td>\n",
       "      <td>40.0</td>\n",
       "      <td>35.0</td>\n",
       "    </tr>\n",
       "    <tr>\n",
       "      <td>15</td>\n",
       "      <td>QARS1,QARS</td>\n",
       "      <td>P47897</td>\n",
       "      <td>KOG1148</td>\n",
       "      <td>I7M6U9</td>\n",
       "      <td>Glutamylglutaminyl-tRNA synthetase protein</td>\n",
       "      <td>70</td>\n",
       "      <td>23.0</td>\n",
       "      <td>47.0</td>\n",
       "    </tr>\n",
       "    <tr>\n",
       "      <td>16</td>\n",
       "      <td>NaN</td>\n",
       "      <td>NaN</td>\n",
       "      <td>ENOG410JZ56</td>\n",
       "      <td>I7M9D6</td>\n",
       "      <td>Tyrosyl-tRNA synthetase protein</td>\n",
       "      <td>70</td>\n",
       "      <td>28.0</td>\n",
       "      <td>42.0</td>\n",
       "    </tr>\n",
       "    <tr>\n",
       "      <td>17</td>\n",
       "      <td>NaN</td>\n",
       "      <td>NaN</td>\n",
       "      <td>NaN</td>\n",
       "      <td>Q23R39</td>\n",
       "      <td>VHS domain-containing protein</td>\n",
       "      <td>67</td>\n",
       "      <td>31.0</td>\n",
       "      <td>36.0</td>\n",
       "    </tr>\n",
       "    <tr>\n",
       "      <td>18</td>\n",
       "      <td>NaN</td>\n",
       "      <td>NaN</td>\n",
       "      <td>NaN</td>\n",
       "      <td>I7M314</td>\n",
       "      <td>G-quartet DNA-binding protein TGP1</td>\n",
       "      <td>65</td>\n",
       "      <td>31.0</td>\n",
       "      <td>34.0</td>\n",
       "    </tr>\n",
       "    <tr>\n",
       "      <td>19</td>\n",
       "      <td>TTC21B,IFT139,KIAA1992,Nbla10696,TTC21A,STI2</td>\n",
       "      <td>Q7Z4L5,Q8NDW8</td>\n",
       "      <td>ENOG410IEX1</td>\n",
       "      <td>I7MFN3</td>\n",
       "      <td>Tetratricopeptide repeat protein</td>\n",
       "      <td>60</td>\n",
       "      <td>23.0</td>\n",
       "      <td>37.0</td>\n",
       "    </tr>\n",
       "    <tr>\n",
       "      <td>25</td>\n",
       "      <td>IFT122,SPG,WDR10,WDR140</td>\n",
       "      <td>Q9HBG6</td>\n",
       "      <td>KOG1538</td>\n",
       "      <td>Q244W3</td>\n",
       "      <td>Intraflagellar transporter</td>\n",
       "      <td>54</td>\n",
       "      <td>22.0</td>\n",
       "      <td>32.0</td>\n",
       "    </tr>\n",
       "    <tr>\n",
       "      <td>30</td>\n",
       "      <td>DNM1L,DLP1,DRP1,DNM2,DYN2,DNM3,KIAA0820,DNM1,D...</td>\n",
       "      <td>O00429,P50570,Q9UQ16,Q05193,P20592,P20591</td>\n",
       "      <td>KOG0446</td>\n",
       "      <td>I7LTH0</td>\n",
       "      <td>Dynamin central region family protein</td>\n",
       "      <td>50</td>\n",
       "      <td>19.0</td>\n",
       "      <td>31.0</td>\n",
       "    </tr>\n",
       "    <tr>\n",
       "      <td>31</td>\n",
       "      <td>DNM1L,DLP1,DRP1,DNM2,DYN2,DNM3,KIAA0820,DNM1,D...</td>\n",
       "      <td>O00429,P50570,Q9UQ16,Q05193,P20592,P20591</td>\n",
       "      <td>KOG0446</td>\n",
       "      <td>I7M1G8</td>\n",
       "      <td>Dynamin central region family protein</td>\n",
       "      <td>50</td>\n",
       "      <td>17.0</td>\n",
       "      <td>33.0</td>\n",
       "    </tr>\n",
       "    <tr>\n",
       "      <td>32</td>\n",
       "      <td>NARS2</td>\n",
       "      <td>Q96I59</td>\n",
       "      <td>KOG0554</td>\n",
       "      <td>I7MCP6</td>\n",
       "      <td>Asparaginyl-tRNA synthetase protein</td>\n",
       "      <td>50</td>\n",
       "      <td>19.0</td>\n",
       "      <td>31.0</td>\n",
       "    </tr>\n",
       "    <tr>\n",
       "      <td>33</td>\n",
       "      <td>WDR19,IFT144,KIAA1638</td>\n",
       "      <td>Q8NEZ3</td>\n",
       "      <td>KOG2247</td>\n",
       "      <td>Q22BP2</td>\n",
       "      <td>WD40 repeat protein</td>\n",
       "      <td>48</td>\n",
       "      <td>17.0</td>\n",
       "      <td>31.0</td>\n",
       "    </tr>\n",
       "    <tr>\n",
       "      <td>37</td>\n",
       "      <td>EIF3A,EIF3S10,KIAA0139</td>\n",
       "      <td>Q14152</td>\n",
       "      <td>KOG2072</td>\n",
       "      <td>Q22SS7</td>\n",
       "      <td>Eukaryotic translation initiation factor 3 sub...</td>\n",
       "      <td>47</td>\n",
       "      <td>13.0</td>\n",
       "      <td>34.0</td>\n",
       "    </tr>\n",
       "    <tr>\n",
       "      <td>66</td>\n",
       "      <td>NaN</td>\n",
       "      <td>NaN</td>\n",
       "      <td>ENOG410J5ND</td>\n",
       "      <td>Q245F3</td>\n",
       "      <td>Uncharacterized protein</td>\n",
       "      <td>35</td>\n",
       "      <td>3.0</td>\n",
       "      <td>32.0</td>\n",
       "    </tr>\n",
       "  </tbody>\n",
       "</table>\n",
       "</div>"
      ],
      "text/plain": [
       "                                       human_genename  \\\n",
       "0                                                 NaN   \n",
       "1                                                 NaN   \n",
       "2   HSP90B2P,GRP94B,GRP94P1,TRAP1,HSP90B1,GRP94,TR...   \n",
       "3                                                 NaN   \n",
       "4   TUBB4B,TUBB2C,TUBB2B,TUBB8,TUBB1,TUBB,TUBB5,OK...   \n",
       "5   DNHD1,C11orf47,CCDC35,DHCD1,DNHD1L,UNQ5781/PRO...   \n",
       "6                                         HSPD1,HSP60   \n",
       "7                               DOP1A,DOPEY1,KIAA1117   \n",
       "8                                               PSMD1   \n",
       "9                                         PSMD2,TRAP2   \n",
       "10                              WDR35,IFT121,KIAA1336   \n",
       "11  DNHD1,C11orf47,CCDC35,DHCD1,DNHD1L,UNQ5781/PRO...   \n",
       "12                              IFT140,KIAA0590,WDTC2   \n",
       "13  CLTC,CLH17,CLTCL2,KIAA0034,CLHC1,C2orf63,CLTCL...   \n",
       "15                                         QARS1,QARS   \n",
       "16                                                NaN   \n",
       "17                                                NaN   \n",
       "18                                                NaN   \n",
       "19       TTC21B,IFT139,KIAA1992,Nbla10696,TTC21A,STI2   \n",
       "25                            IFT122,SPG,WDR10,WDR140   \n",
       "30  DNM1L,DLP1,DRP1,DNM2,DYN2,DNM3,KIAA0820,DNM1,D...   \n",
       "31  DNM1L,DLP1,DRP1,DNM2,DYN2,DNM3,KIAA0820,DNM1,D...   \n",
       "32                                              NARS2   \n",
       "33                              WDR19,IFT144,KIAA1638   \n",
       "37                             EIF3A,EIF3S10,KIAA0139   \n",
       "66                                                NaN   \n",
       "\n",
       "                                     human_uniprot_ID     euNOG_ID  \\\n",
       "0                                                 NaN          NaN   \n",
       "1                                                 NaN  ENOG410J2R0   \n",
       "2   Q58FF3,P14625,Q58FF6,Q58FF8,Q58FF7,Q14568,Q58F...      KOG0020   \n",
       "3                                                 NaN  ENOG410JP72   \n",
       "4   P68371,Q9BVA1,Q3ZCM7,Q9H4B7,P07437,Q13509,P043...      KOG1375   \n",
       "5   Q96M86,Q96DT5,Q9UFH2,Q6ZR08,Q9P225,Q8TE73,Q9NY...      KOG3595   \n",
       "6                                              P10809      KOG0356   \n",
       "7                                              Q5JWR5      KOG3613   \n",
       "8                                              Q99460      KOG2062   \n",
       "9                                              Q13200      KOG2005   \n",
       "10                                             Q9P2L0      KOG2041   \n",
       "11  Q96M86,Q96DT5,Q9UFH2,Q6ZR08,Q9P225,Q8TE73,Q9NY...      KOG3595   \n",
       "12                                             Q96RY7      KOG3617   \n",
       "13                               Q00610,Q8NHS4,P53675      KOG0985   \n",
       "15                                             P47897      KOG1148   \n",
       "16                                                NaN  ENOG410JZ56   \n",
       "17                                                NaN          NaN   \n",
       "18                                                NaN          NaN   \n",
       "19                                      Q7Z4L5,Q8NDW8  ENOG410IEX1   \n",
       "25                                             Q9HBG6      KOG1538   \n",
       "30          O00429,P50570,Q9UQ16,Q05193,P20592,P20591      KOG0446   \n",
       "31          O00429,P50570,Q9UQ16,Q05193,P20592,P20591      KOG0446   \n",
       "32                                             Q96I59      KOG0554   \n",
       "33                                             Q8NEZ3      KOG2247   \n",
       "37                                             Q14152      KOG2072   \n",
       "66                                                NaN  ENOG410J5ND   \n",
       "\n",
       "   tetts_uniprot                                                #N/A  \\\n",
       "0          I7M9Q5                            Uncharacterized protein   \n",
       "1          Q23FB7                            Uncharacterized protein   \n",
       "2          Q22W82                HATPase_c domain-containing protein   \n",
       "3          I7MJ89                            Uncharacterized protein   \n",
       "4          Q24B92                                 Tubulin beta chain   \n",
       "5          I7M6H4  Dynein-1-alpha heavy chain, flagellar inner ar...   \n",
       "6          Q23JZ7                                 Chaperonin CPN60-1   \n",
       "7          Q23JK7               Dopey, amine-terminal domain protein   \n",
       "8          I7LTL6    26S proteasome regulatory complex, subunit RPN2   \n",
       "9          I7M1R0                  26S proteasome regulatory subunit   \n",
       "10         Q22U89                                WD40 repeat protein   \n",
       "11         Q23QN9                        Axonemal dynein heavy chain   \n",
       "12         I7LVZ7                         Intraflagellar transporter   \n",
       "13         I7LUR8                               Clathrin heavy chain   \n",
       "15         I7M6U9         Glutamylglutaminyl-tRNA synthetase protein   \n",
       "16         I7M9D6                    Tyrosyl-tRNA synthetase protein   \n",
       "17         Q23R39                      VHS domain-containing protein   \n",
       "18         I7M314                 G-quartet DNA-binding protein TGP1   \n",
       "19         I7MFN3                   Tetratricopeptide repeat protein   \n",
       "25         Q244W3                         Intraflagellar transporter   \n",
       "30         I7LTH0              Dynamin central region family protein   \n",
       "31         I7M1G8              Dynamin central region family protein   \n",
       "32         I7MCP6                Asparaginyl-tRNA synthetase protein   \n",
       "33         Q22BP2                                WD40 repeat protein   \n",
       "37         Q22SS7  Eukaryotic translation initiation factor 3 sub...   \n",
       "66         Q245F3                            Uncharacterized protein   \n",
       "\n",
       "    total_counts  Tetrahymena_fxn14_06032020  Tetrahymena_fxn15_06032020  \n",
       "0            348                       206.0                       142.0  \n",
       "1            176                        92.0                        84.0  \n",
       "2            164                        88.0                        76.0  \n",
       "3            138                        86.0                        52.0  \n",
       "4            117                        60.0                        57.0  \n",
       "5             96                        46.0                        50.0  \n",
       "6             95                        44.0                        51.0  \n",
       "7             91                        38.0                        53.0  \n",
       "8             87                        39.0                        48.0  \n",
       "9             82                        38.0                        44.0  \n",
       "10            80                        31.0                        49.0  \n",
       "11            78                        28.0                        50.0  \n",
       "12            77                        33.0                        44.0  \n",
       "13            75                        40.0                        35.0  \n",
       "15            70                        23.0                        47.0  \n",
       "16            70                        28.0                        42.0  \n",
       "17            67                        31.0                        36.0  \n",
       "18            65                        31.0                        34.0  \n",
       "19            60                        23.0                        37.0  \n",
       "25            54                        22.0                        32.0  \n",
       "30            50                        19.0                        31.0  \n",
       "31            50                        17.0                        33.0  \n",
       "32            50                        19.0                        31.0  \n",
       "33            48                        17.0                        31.0  \n",
       "37            47                        13.0                        34.0  \n",
       "66            35                         3.0                        32.0  "
      ]
     },
     "execution_count": 4,
     "metadata": {},
     "output_type": "execute_result"
    }
   ],
   "source": [
    "tett_data_mostabundant"
   ]
  },
  {
   "cell_type": "code",
   "execution_count": 31,
   "metadata": {},
   "outputs": [],
   "source": [
    "# makes list of human proteins\n",
    "human_protein_list = tett_data_mostabundant['tetts_uniprot '].tolist()\n",
    "# removes nans from list\n",
    "human_protein_list = [x for x in human_protein_list if str(x) != 'nan']\n",
    "# flattens list\n",
    "human_protein_list = [x.split(\",\") for x in human_protein_list]\n",
    "human_protein_list = [item for sublist in human_protein_list for item in sublist]"
   ]
  },
  {
   "cell_type": "code",
   "execution_count": 32,
   "metadata": {},
   "outputs": [],
   "source": [
    "prot_seqs = []\n",
    "for i in human_protein_list:\n",
    "    params = {\"query\": i, \"format\": \"fasta\"} \n",
    "    response = requests.get(\"http://www.uniprot.org/uniprot/\", params)\n",
    "    seq = response.text\n",
    "    seqq = ''.join([x for x in seq.split('\\n')[1:]])\n",
    "    prot_seqs.append(seqq)"
   ]
  },
  {
   "cell_type": "code",
   "execution_count": 33,
   "metadata": {},
   "outputs": [],
   "source": [
    "GENES_AND_SEQUENCES = dict(zip(human_protein_list, prot_seqs))\n"
   ]
  },
  {
   "cell_type": "code",
   "execution_count": 34,
   "metadata": {},
   "outputs": [],
   "source": [
    "InteractiveShell.ast_node_interactivity = \"all\"\n",
    "# Create logger\n",
    "logger = logging.getLogger()\n",
    "logger.setLevel(logging.INFO)  # SET YOUR LOGGING LEVEL HERE #"
   ]
  },
  {
   "cell_type": "code",
   "execution_count": 35,
   "metadata": {},
   "outputs": [],
   "source": [
    "# Other logger stuff for Jupyter notebooks\n",
    "handler = logging.StreamHandler(sys.stderr)\n",
    "formatter = logging.Formatter('[%(asctime)s] [%(name)s] %(levelname)s: %(message)s', datefmt=\"%Y-%m-%d %H:%M\")\n",
    "handler.setFormatter(formatter)\n",
    "logger.handlers = [handler]"
   ]
  },
  {
   "cell_type": "code",
   "execution_count": 36,
   "metadata": {},
   "outputs": [],
   "source": [
    "# SET FOLDERS AND DATA HERE\n",
    "ROOT_DIR = tempfile.gettempdir()\n",
    "\n",
    "PROJECT = 'proteins_human_ortho_Frac15'\n",
    "PDB_FILE_TYPE = 'pdb'"
   ]
  },
  {
   "cell_type": "code",
   "execution_count": 37,
   "metadata": {},
   "outputs": [
    {
     "name": "stderr",
     "output_type": "stream",
     "text": [
      "[2020-06-07 18:51] [ssbio.pipeline.gempro] INFO: Creating GEM-PRO project directory in folder /tmp\n",
      "[2020-06-07 18:51] [ssbio.pipeline.gempro] INFO: /tmp/proteins_human_ortho_Frac15: GEM-PRO project location\n",
      "[2020-06-07 18:51] [ssbio.pipeline.gempro] INFO: Added 26 genes to GEM-PRO project\n",
      "[2020-06-07 18:51] [ssbio.pipeline.gempro] INFO: Loaded in 26 sequences\n",
      "[2020-06-07 18:51] [ssbio.pipeline.gempro] INFO: 26: number of genes\n"
     ]
    }
   ],
   "source": [
    "# Create the GEM-PRO project\n",
    "my_gempro = GEMPRO(gem_name=PROJECT, root_dir=ROOT_DIR, genes_and_sequences=GENES_AND_SEQUENCES, pdb_file_type=PDB_FILE_TYPE)"
   ]
  },
  {
   "cell_type": "code",
   "execution_count": 38,
   "metadata": {},
   "outputs": [
    {
     "data": {
      "application/vnd.jupyter.widget-view+json": {
       "model_id": "2c4e2b9c3f71445f9724dad4051c2c8b",
       "version_major": 2,
       "version_minor": 0
      },
      "text/plain": [
       "A Jupyter Widget"
      ]
     },
     "metadata": {},
     "output_type": "display_data"
    },
    {
     "name": "stdout",
     "output_type": "stream",
     "text": [
      "\n"
     ]
    },
    {
     "name": "stderr",
     "output_type": "stream",
     "text": [
      "[2020-06-07 18:53] [ssbio.pipeline.gempro] INFO: Completed sequence --> PDB BLAST. See the \"df_pdb_blast\" attribute for a summary dataframe.\n",
      "[2020-06-07 18:53] [ssbio.pipeline.gempro] INFO: 1: number of genes with additional structures added from BLAST\n"
     ]
    },
    {
     "data": {
      "text/html": [
       "<div>\n",
       "<style scoped>\n",
       "    .dataframe tbody tr th:only-of-type {\n",
       "        vertical-align: middle;\n",
       "    }\n",
       "\n",
       "    .dataframe tbody tr th {\n",
       "        vertical-align: top;\n",
       "    }\n",
       "\n",
       "    .dataframe thead th {\n",
       "        text-align: right;\n",
       "    }\n",
       "</style>\n",
       "<table border=\"1\" class=\"dataframe\">\n",
       "  <thead>\n",
       "    <tr style=\"text-align: right;\">\n",
       "      <th></th>\n",
       "      <th>pdb_id</th>\n",
       "      <th>pdb_chain_id</th>\n",
       "      <th>hit_score</th>\n",
       "      <th>hit_evalue</th>\n",
       "      <th>hit_percent_similar</th>\n",
       "      <th>hit_percent_ident</th>\n",
       "      <th>hit_num_ident</th>\n",
       "      <th>hit_num_similar</th>\n",
       "    </tr>\n",
       "    <tr>\n",
       "      <th>gene</th>\n",
       "      <th></th>\n",
       "      <th></th>\n",
       "      <th></th>\n",
       "      <th></th>\n",
       "      <th></th>\n",
       "      <th></th>\n",
       "      <th></th>\n",
       "      <th></th>\n",
       "    </tr>\n",
       "  </thead>\n",
       "  <tbody>\n",
       "    <tr>\n",
       "      <td>Q24B92</td>\n",
       "      <td>5ubq</td>\n",
       "      <td>F</td>\n",
       "      <td>2248.0</td>\n",
       "      <td>0.0</td>\n",
       "      <td>0.927765</td>\n",
       "      <td>0.927765</td>\n",
       "      <td>411</td>\n",
       "      <td>411</td>\n",
       "    </tr>\n",
       "    <tr>\n",
       "      <td>Q24B92</td>\n",
       "      <td>5ubq</td>\n",
       "      <td>B</td>\n",
       "      <td>2248.0</td>\n",
       "      <td>0.0</td>\n",
       "      <td>0.927765</td>\n",
       "      <td>0.927765</td>\n",
       "      <td>411</td>\n",
       "      <td>411</td>\n",
       "    </tr>\n",
       "    <tr>\n",
       "      <td>Q24B92</td>\n",
       "      <td>5ubq</td>\n",
       "      <td>D</td>\n",
       "      <td>2248.0</td>\n",
       "      <td>0.0</td>\n",
       "      <td>0.927765</td>\n",
       "      <td>0.927765</td>\n",
       "      <td>411</td>\n",
       "      <td>411</td>\n",
       "    </tr>\n",
       "    <tr>\n",
       "      <td>Q24B92</td>\n",
       "      <td>5ucy</td>\n",
       "      <td>B</td>\n",
       "      <td>2248.0</td>\n",
       "      <td>0.0</td>\n",
       "      <td>0.927765</td>\n",
       "      <td>0.927765</td>\n",
       "      <td>411</td>\n",
       "      <td>411</td>\n",
       "    </tr>\n",
       "    <tr>\n",
       "      <td>Q24B92</td>\n",
       "      <td>6u0h</td>\n",
       "      <td>B</td>\n",
       "      <td>2252.0</td>\n",
       "      <td>0.0</td>\n",
       "      <td>0.930023</td>\n",
       "      <td>0.930023</td>\n",
       "      <td>412</td>\n",
       "      <td>412</td>\n",
       "    </tr>\n",
       "    <tr>\n",
       "      <td>Q24B92</td>\n",
       "      <td>6u0t</td>\n",
       "      <td>M</td>\n",
       "      <td>2252.0</td>\n",
       "      <td>0.0</td>\n",
       "      <td>0.930023</td>\n",
       "      <td>0.930023</td>\n",
       "      <td>412</td>\n",
       "      <td>412</td>\n",
       "    </tr>\n",
       "    <tr>\n",
       "      <td>Q24B92</td>\n",
       "      <td>6u0t</td>\n",
       "      <td>L</td>\n",
       "      <td>2252.0</td>\n",
       "      <td>0.0</td>\n",
       "      <td>0.930023</td>\n",
       "      <td>0.930023</td>\n",
       "      <td>412</td>\n",
       "      <td>412</td>\n",
       "    </tr>\n",
       "    <tr>\n",
       "      <td>Q24B92</td>\n",
       "      <td>6u0t</td>\n",
       "      <td>K</td>\n",
       "      <td>2252.0</td>\n",
       "      <td>0.0</td>\n",
       "      <td>0.930023</td>\n",
       "      <td>0.930023</td>\n",
       "      <td>412</td>\n",
       "      <td>412</td>\n",
       "    </tr>\n",
       "    <tr>\n",
       "      <td>Q24B92</td>\n",
       "      <td>6u0t</td>\n",
       "      <td>J</td>\n",
       "      <td>2252.0</td>\n",
       "      <td>0.0</td>\n",
       "      <td>0.930023</td>\n",
       "      <td>0.930023</td>\n",
       "      <td>412</td>\n",
       "      <td>412</td>\n",
       "    </tr>\n",
       "    <tr>\n",
       "      <td>Q24B92</td>\n",
       "      <td>6u0t</td>\n",
       "      <td>B</td>\n",
       "      <td>2252.0</td>\n",
       "      <td>0.0</td>\n",
       "      <td>0.930023</td>\n",
       "      <td>0.930023</td>\n",
       "      <td>412</td>\n",
       "      <td>412</td>\n",
       "    </tr>\n",
       "  </tbody>\n",
       "</table>\n",
       "</div>"
      ],
      "text/plain": [
       "       pdb_id pdb_chain_id  hit_score  hit_evalue  hit_percent_similar  \\\n",
       "gene                                                                     \n",
       "Q24B92   5ubq            F     2248.0         0.0             0.927765   \n",
       "Q24B92   5ubq            B     2248.0         0.0             0.927765   \n",
       "Q24B92   5ubq            D     2248.0         0.0             0.927765   \n",
       "Q24B92   5ucy            B     2248.0         0.0             0.927765   \n",
       "Q24B92   6u0h            B     2252.0         0.0             0.930023   \n",
       "Q24B92   6u0t            M     2252.0         0.0             0.930023   \n",
       "Q24B92   6u0t            L     2252.0         0.0             0.930023   \n",
       "Q24B92   6u0t            K     2252.0         0.0             0.930023   \n",
       "Q24B92   6u0t            J     2252.0         0.0             0.930023   \n",
       "Q24B92   6u0t            B     2252.0         0.0             0.930023   \n",
       "\n",
       "        hit_percent_ident  hit_num_ident  hit_num_similar  \n",
       "gene                                                       \n",
       "Q24B92           0.927765            411              411  \n",
       "Q24B92           0.927765            411              411  \n",
       "Q24B92           0.927765            411              411  \n",
       "Q24B92           0.927765            411              411  \n",
       "Q24B92           0.930023            412              412  \n",
       "Q24B92           0.930023            412              412  \n",
       "Q24B92           0.930023            412              412  \n",
       "Q24B92           0.930023            412              412  \n",
       "Q24B92           0.930023            412              412  \n",
       "Q24B92           0.930023            412              412  "
      ]
     },
     "execution_count": 38,
     "metadata": {},
     "output_type": "execute_result"
    }
   ],
   "source": [
    "# Mapping using BLAST\n",
    "my_gempro.blast_seqs_to_pdb(all_genes=True, seq_ident_cutoff=.9, evalue=0.00001)\n",
    "my_gempro.df_pdb_blast.head(10)"
   ]
  },
  {
   "cell_type": "code",
   "execution_count": 39,
   "metadata": {},
   "outputs": [],
   "source": [
    "massspec_pdbdf = my_gempro.df_pdb_blast"
   ]
  },
  {
   "cell_type": "code",
   "execution_count": 41,
   "metadata": {},
   "outputs": [],
   "source": [
    "uniqueset_massspec_pdblist = set(massspec_pdbdf['pdb_id'].to_list())"
   ]
  },
  {
   "cell_type": "code",
   "execution_count": 42,
   "metadata": {},
   "outputs": [
    {
     "data": {
      "text/plain": [
       "5"
      ]
     },
     "execution_count": 42,
     "metadata": {},
     "output_type": "execute_result"
    }
   ],
   "source": [
    "len(uniqueset_massspec_pdblist)"
   ]
  },
  {
   "cell_type": "code",
   "execution_count": 43,
   "metadata": {},
   "outputs": [],
   "source": [
    "uniqueset_massspec_pdblist = [x.upper() for x in uniqueset_massspec_pdblist]"
   ]
  },
  {
   "cell_type": "code",
   "execution_count": 44,
   "metadata": {},
   "outputs": [
    {
     "data": {
      "text/plain": [
       "['6U0H', '5UCY', '6U0T', '6U0U', '5UBQ']"
      ]
     },
     "execution_count": 44,
     "metadata": {},
     "output_type": "execute_result"
    }
   ],
   "source": [
    "uniqueset_massspec_pdblist"
   ]
  },
  {
   "cell_type": "code",
   "execution_count": 45,
   "metadata": {},
   "outputs": [],
   "source": [
    "DATA_DIR = os.path.join(os.path.dirname(os.getcwd()),'data/build_data/')\n",
    "DEST_DIR = '/home/cns-mccafferty/NozPiker/data/tetts_F15_massSpec/'\n",
    "\n",
    "files = glob.glob(DATA_DIR + \"*.mrcs\")\n",
    "madefiles = []\n",
    "for i in files:\n",
    "    shortname = i.split('/')[-1].split('_')[1]\n",
    "    if shortname in uniqueset_massspec_pdblist:\n",
    "        madefiles.append(shortname)\n",
    "        shutil.copy(i, DEST_DIR)"
   ]
  },
  {
   "cell_type": "code",
   "execution_count": 46,
   "metadata": {},
   "outputs": [
    {
     "data": {
      "text/plain": [
       "0"
      ]
     },
     "execution_count": 46,
     "metadata": {},
     "output_type": "execute_result"
    }
   ],
   "source": [
    "len(madefiles)"
   ]
  },
  {
   "cell_type": "code",
   "execution_count": 47,
   "metadata": {},
   "outputs": [],
   "source": [
    "l3 = [x for x in uniqueset_massspec_pdblist if x not in madefiles]"
   ]
  },
  {
   "cell_type": "code",
   "execution_count": 49,
   "metadata": {},
   "outputs": [
    {
     "name": "stdout",
     "output_type": "stream",
     "text": [
      "TUBULINALPHACHAIN\n"
     ]
    },
    {
     "data": {
      "text/plain": [
       "('TUBULINALPHACHAIN', 'TUBULINALPHACHAIN_6U0H_proj.mrcs')"
      ]
     },
     "execution_count": 49,
     "metadata": {},
     "output_type": "execute_result"
    },
    {
     "name": "stdout",
     "output_type": "stream",
     "text": [
      "TUBULINALPHACHAIN\n"
     ]
    },
    {
     "data": {
      "text/plain": [
       "('TUBULINALPHACHAIN', 'TUBULINALPHACHAIN_5UCY_proj.mrcs')"
      ]
     },
     "execution_count": 49,
     "metadata": {},
     "output_type": "execute_result"
    },
    {
     "name": "stdout",
     "output_type": "stream",
     "text": [
      "TUBULINALPHACHAIN\n"
     ]
    },
    {
     "data": {
      "text/plain": [
       "('TUBULINALPHACHAIN', 'TUBULINALPHACHAIN_6U0T_proj.mrcs')"
      ]
     },
     "execution_count": 49,
     "metadata": {},
     "output_type": "execute_result"
    },
    {
     "name": "stdout",
     "output_type": "stream",
     "text": [
      "TUBULINALPHACHAIN\n"
     ]
    },
    {
     "data": {
      "text/plain": [
       "('TUBULINALPHACHAIN', 'TUBULINALPHACHAIN_6U0U_proj.mrcs')"
      ]
     },
     "execution_count": 49,
     "metadata": {},
     "output_type": "execute_result"
    },
    {
     "name": "stdout",
     "output_type": "stream",
     "text": [
      "TUBULINALPHACHAIN\n"
     ]
    },
    {
     "data": {
      "text/plain": [
       "('TUBULINALPHACHAIN', 'TUBULINALPHACHAIN_5UBQ_proj.mrcs')"
      ]
     },
     "execution_count": 49,
     "metadata": {},
     "output_type": "execute_result"
    }
   ],
   "source": [
    "for i in l3:\n",
    "    try:\n",
    "        NZ.makeImages(DEST_DIR, i)\n",
    "    except AttributeError:\n",
    "        pass"
   ]
  },
  {
   "cell_type": "code",
   "execution_count": 30,
   "metadata": {},
   "outputs": [],
   "source": [
    "tetts_protein_list = tett_data_mostabundant['tetts_uniprot '].tolist()"
   ]
  },
  {
   "cell_type": "code",
   "execution_count": 2,
   "metadata": {},
   "outputs": [
    {
     "name": "stdout",
     "output_type": "stream",
     "text": [
      "ATPDEPENDENTMOLECULARCHAPERONEHSP82\n"
     ]
    },
    {
     "data": {
      "text/plain": [
       "('ATPDEPENDENTMOLECULARCHAPERONEHSP82',\n",
       " 'ATPDEPENDENTMOLECULARCHAPERONEHSP82_2CG9_proj.mrcs')"
      ]
     },
     "execution_count": 2,
     "metadata": {},
     "output_type": "execute_result"
    }
   ],
   "source": [
    "NZ.makeImages('/home/cns-mccafferty/NozPiker/data/tetts_F15_massSpec_only/', '2CG9')"
   ]
  }
 ],
 "metadata": {
  "kernelspec": {
   "display_name": "Python 3",
   "language": "python",
   "name": "python3"
  },
  "language_info": {
   "codemirror_mode": {
    "name": "ipython",
    "version": 3
   },
   "file_extension": ".py",
   "mimetype": "text/x-python",
   "name": "python",
   "nbconvert_exporter": "python",
   "pygments_lexer": "ipython3",
   "version": "3.7.4"
  }
 },
 "nbformat": 4,
 "nbformat_minor": 2
}
